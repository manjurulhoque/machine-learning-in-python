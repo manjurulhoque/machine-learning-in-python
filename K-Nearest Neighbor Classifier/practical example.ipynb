{
 "cells": [
  {
   "cell_type": "code",
   "execution_count": 1,
   "metadata": {
    "collapsed": true
   },
   "outputs": [],
   "source": [
    "import numpy as np\n",
    "from matplotlib import pyplot as plt\n",
    "from sklearn.neighbors import KNeighborsClassifier\n",
    "\n",
    "%matplotlib inline"
   ]
  },
  {
   "cell_type": "code",
   "execution_count": 2,
   "metadata": {
    "collapsed": true
   },
   "outputs": [],
   "source": [
    "xFruit = np.array([10, 10])\n",
    "yFruit = np.array([9, 1])\n",
    "\n",
    "xProtein = np.array([1, 1])\n",
    "yProtein = np.array([4, 1])\n",
    "\n",
    "xVegetable = np.array([7])\n",
    "yVegetable = np.array([10])"
   ]
  },
  {
   "cell_type": "code",
   "execution_count": 9,
   "metadata": {
    "collapsed": true
   },
   "outputs": [],
   "source": [
    "X = np.array([[10, 9], [10, 1], [1, 4], [1, 1], [7, 10]]) # X = training data\n",
    "y = np.array([0, 0, 1, 1, 2]) # y = target values 0: fruit, 1: protein, 2: vegetable"
   ]
  },
  {
   "cell_type": "code",
   "execution_count": 13,
   "metadata": {},
   "outputs": [
    {
     "data": {
      "text/plain": [
       "1"
      ]
     },
     "execution_count": 13,
     "metadata": {},
     "output_type": "execute_result"
    },
    {
     "data": {
      "image/png": "[encoded data removed]",
      "text/plain": [
       "<matplotlib.figure.Figure at 0x7a2c87d588>"
      ]
     },
     "metadata": {},
     "output_type": "display_data"
    }
   ],
   "source": [
    "# plotting the arrays\n",
    "plt.xlabel('sweetness')\n",
    "plt.ylabel('crunchiness')\n",
    "plt.plot(xFruit, yFruit, 'ro', color='yellow')\n",
    "plt.plot(xProtein, yProtein, 'ro', color='red')\n",
    "plt.plot(xVegetable, yVegetable, 'ro', color='green')\n",
    "\n",
    "classifier = KNeighborsClassifier(n_neighbors=3) # this is K value\n",
    "classifier.fit(X, y)\n",
    "\n",
    "\n",
    "\n",
    "prediction = classifier.predict(np.array([6, 4]).reshape(1, -1))\n",
    "plt.plot(6, 4, 'ro', color='blue', markersize=20)\n",
    "prediction[0]"
   ]
  },
  {
   "cell_type": "code",
   "execution_count": null,
   "metadata": {
    "collapsed": true
   },
   "outputs": [],
   "source": []
  }
 ],
 "metadata": {
  "kernelspec": {
   "display_name": "Python 3",
   "language": "python",
   "name": "python3"
  },
  "language_info": {
   "codemirror_mode": {
    "name": "ipython",
    "version": 3
   },
   "file_extension": ".py",
   "mimetype": "text/x-python",
   "name": "python",
   "nbconvert_exporter": "python",
   "pygments_lexer": "ipython3",
   "version": "3.6.1"
  }
 },
 "nbformat": 4,
 "nbformat_minor": 2
}
